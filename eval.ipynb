{
 "cells": [
  {
   "cell_type": "markdown",
   "metadata": {},
   "source": [
    "# Evaluation of varying utilization"
   ]
  },
  {
   "cell_type": "code",
   "execution_count": 1,
   "metadata": {},
   "outputs": [
    {
     "ename": "KeyboardInterrupt",
     "evalue": "",
     "output_type": "error",
     "traceback": [
      "\u001b[1;31m---------------------------------------------------------------------------\u001b[0m",
      "\u001b[1;31mKeyboardInterrupt\u001b[0m                         Traceback (most recent call last)",
      "File \u001b[1;32m~\\Documents\\workspace\\env\\DED\\DED_Simulator\\eval_interface.py:103\u001b[0m, in \u001b[0;36m<module>\u001b[1;34m\u001b[0m\n\u001b[0;32m    100\u001b[0m processor \u001b[39m=\u001b[39m MultiCoreProcessor(num_cores)\n\u001b[0;32m    101\u001b[0m scheduler \u001b[39m=\u001b[39m Scheduler(sched_algorithm, dag,\n\u001b[0;32m    102\u001b[0m                       processor, alpha, write_sched_log)\n\u001b[1;32m--> 103\u001b[0m scheduler\u001b[39m.\u001b[39;49mschedule()\n\u001b[0;32m    105\u001b[0m file_name \u001b[39m=\u001b[39m (\n\u001b[0;32m    106\u001b[0m     \u001b[39mf\u001b[39m\u001b[39m'\u001b[39m\u001b[39m{\u001b[39;00mos\u001b[39m.\u001b[39mpath\u001b[39m.\u001b[39msplitext(os\u001b[39m.\u001b[39mpath\u001b[39m.\u001b[39mbasename(dag_path))[\u001b[39m0\u001b[39m]\u001b[39m}\u001b[39;00m\u001b[39m_\u001b[39m\u001b[39m'\u001b[39m\n\u001b[0;32m    107\u001b[0m     \u001b[39mf\u001b[39m\u001b[39m'\u001b[39m\u001b[39m{\u001b[39;00manalyze_method\u001b[39m}\u001b[39;00m\u001b[39m_\u001b[39m\u001b[39m'\u001b[39m\n\u001b[1;32m   (...)\u001b[0m\n\u001b[0;32m    110\u001b[0m     \u001b[39mf\u001b[39m\u001b[39m'\u001b[39m\u001b[39m{\u001b[39;00msched_algorithm\u001b[39m}\u001b[39;00m\u001b[39m_\u001b[39m\u001b[39m'\u001b[39m\n\u001b[0;32m    111\u001b[0m )\n\u001b[0;32m    112\u001b[0m \u001b[39mif\u001b[39;00m jitter:\n",
      "File \u001b[1;32m~\\Documents\\workspace\\env\\DED\\DED_Simulator\\src\\scheduler.py:119\u001b[0m, in \u001b[0;36mScheduler.schedule\u001b[1;34m(self)\u001b[0m\n\u001b[0;32m    116\u001b[0m \u001b[39mif\u001b[39;00m \u001b[39mself\u001b[39m\u001b[39m.\u001b[39m_dm_flag:\n\u001b[0;32m    117\u001b[0m     \u001b[39mbreak\u001b[39;00m\n\u001b[1;32m--> 119\u001b[0m \u001b[39mself\u001b[39;49m\u001b[39m.\u001b[39;49m_update_ready_jobs()\n\u001b[0;32m    120\u001b[0m \u001b[39mif\u001b[39;00m \u001b[39mnot\u001b[39;00m \u001b[39mself\u001b[39m\u001b[39m.\u001b[39m_ready_jobs \u001b[39mor\u001b[39;00m \u001b[39mnot\u001b[39;00m \u001b[39mself\u001b[39m\u001b[39m.\u001b[39m_processor\u001b[39m.\u001b[39mget_idle_core():\n\u001b[0;32m    121\u001b[0m     \u001b[39mself\u001b[39m\u001b[39m.\u001b[39m_advance_time()\n",
      "File \u001b[1;32m~\\Documents\\workspace\\env\\DED\\DED_Simulator\\src\\scheduler.py:248\u001b[0m, in \u001b[0;36mScheduler._update_ready_jobs\u001b[1;34m(self)\u001b[0m\n\u001b[0;32m    243\u001b[0m \u001b[39mdef\u001b[39;00m \u001b[39m_update_ready_jobs\u001b[39m(\n\u001b[0;32m    244\u001b[0m     \u001b[39mself\u001b[39m\n\u001b[0;32m    245\u001b[0m ) \u001b[39m-\u001b[39m\u001b[39m>\u001b[39m \u001b[39mNone\u001b[39;00m:\n\u001b[0;32m    246\u001b[0m     \u001b[39mfor\u001b[39;00m node_i \u001b[39min\u001b[39;00m \u001b[39mself\u001b[39m\u001b[39m.\u001b[39m_dag\u001b[39m.\u001b[39mnodes:\n\u001b[0;32m    247\u001b[0m         \u001b[39mif\u001b[39;00m (\u001b[39mself\u001b[39m\u001b[39m.\u001b[39m_dag\u001b[39m.\u001b[39mnodes[node_i][\u001b[39m'\u001b[39m\u001b[39mjobs\u001b[39m\u001b[39m'\u001b[39m]\n\u001b[1;32m--> 248\u001b[0m             \u001b[39mand\u001b[39;00m \u001b[39mself\u001b[39;49m\u001b[39m.\u001b[39;49m_dag\u001b[39m.\u001b[39;49mnodes[node_i][\u001b[39m'\u001b[39m\u001b[39mjobs\u001b[39m\u001b[39m'\u001b[39m][\u001b[39m0\u001b[39m]\u001b[39m.\u001b[39mtri_time\n\u001b[0;32m    249\u001b[0m                 \u001b[39m==\u001b[39m \u001b[39mself\u001b[39m\u001b[39m.\u001b[39m_current_time):\n\u001b[0;32m    250\u001b[0m             \u001b[39mself\u001b[39m\u001b[39m.\u001b[39m_ready_jobs\u001b[39m.\u001b[39mappend(\u001b[39mself\u001b[39m\u001b[39m.\u001b[39m_dag\u001b[39m.\u001b[39mnodes[node_i][\u001b[39m'\u001b[39m\u001b[39mjobs\u001b[39m\u001b[39m'\u001b[39m]\u001b[39m.\u001b[39mpop(\u001b[39m0\u001b[39m))\n",
      "\u001b[1;31mKeyboardInterrupt\u001b[0m: "
     ]
    }
   ],
   "source": [
    "import numpy as np\n",
    "\n",
    "!mkdir \"./results/utilization_varied\"\n",
    "\n",
    "DEST_DIR = \"./results/utilization_varied\"\n",
    "METHODS = [\"proposed\", \"Igarashi\", \"Saidi\"]\n",
    "DAG_PATH = \"./DAGs/reference_system/referenceSystem.dot\"\n",
    "JITTER_SRC = \"./DAGs/reference_system/reference_system_exec_jitter_multi_8core_8192.yaml\"\n",
    "\n",
    "for method in METHODS:\n",
    "    for tu in np.arange(1.0, 1.4, 0.0004):\n",
    "        %run eval_interface.py -d $DEST_DIR -g $DAG_PATH -m $method --alpha 1.7 -c 8 -a \"LLF\" -u -l -j $JITTER_SRC $tu\n",
    "\n",
    "# HACK: EDF\n",
    "for tu in np.arange(1.0, 1.4, 0.0004):\n",
    "    %run eval_interface.py -d $DEST_DIR -g $DAG_PATH -m \"Igarashi\" --alpha 1.7 -c 8 -a \"EDF\" -u -j $JITTER_SRC $tu"
   ]
  },
  {
   "cell_type": "markdown",
   "metadata": {},
   "source": [
    "# Evaluation of varying alpha"
   ]
  },
  {
   "cell_type": "code",
   "execution_count": null,
   "metadata": {},
   "outputs": [],
   "source": [
    "import numpy as np\n",
    "\n",
    "!mkdir \"./results/alpha_varied\"\n",
    "\n",
    "DEST_DIR = \"./results/alpha_varied\"\n",
    "METHODS = [\"proposed\", \"Igarashi\", \"Saidi\"]\n",
    "DAG_PATH = \"./DAGs/reference_system/referenceSystem.dot\"\n",
    "JITTER_SRC = \"./DAGs/reference_system/reference_system_exec_jitter_multi_8core_8192.yaml\"\n",
    "\n",
    "for method in METHODS:\n",
    "    for alpha in np.arange(1.0, 1.4, 0.0004):  # TODO: adjust\n",
    "        %run eval_interface.py -d $DEST_DIR -g $DAG_PATH -m $method --alpha $alpha -c 8 -a \"LLF\" -u -j $JITTER_SRC 1.4\n",
    "\n",
    "# HACK: EDF\n",
    "for alpha in np.arange(1.0, 1.4, 0.0004):  # TODO: adjust\n",
    "    %run eval_interface.py -d $DEST_DIR -g $DAG_PATH -m \"Igarashi\" --alpha $alpha -c 8 -a \"EDF\" -u -j $JITTER_SRC 1.4"
   ]
  }
 ],
 "metadata": {
  "kernelspec": {
   "display_name": "Python 3.9.0 64-bit (system)",
   "language": "python",
   "name": "python3"
  },
  "language_info": {
   "codemirror_mode": {
    "name": "ipython",
    "version": 3
   },
   "file_extension": ".py",
   "mimetype": "text/x-python",
   "name": "python",
   "nbconvert_exporter": "python",
   "pygments_lexer": "ipython3",
   "version": "3.9.0"
  },
  "orig_nbformat": 4,
  "vscode": {
   "interpreter": {
    "hash": "91f444b4bdd0a64f581b8b78c6f8ddecf8f9bb3916c552bdbf02c54ef617e774"
   }
  }
 },
 "nbformat": 4,
 "nbformat_minor": 2
}
