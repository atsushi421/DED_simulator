{
 "cells": [
  {
   "cell_type": "markdown",
   "metadata": {},
   "source": [
    "# Evaluation of varying utilization"
   ]
  },
  {
   "cell_type": "code",
   "execution_count": 2,
   "metadata": {},
   "outputs": [],
   "source": [
    "import numpy as np\n",
    "\n",
    "!mkdir \"./results/utilization_varied\"\n",
    "\n",
    "DEST_DIR = \"./results/utilization_varied\"\n",
    "METHODS = [\"proposed\", \"Igarashi\", \"Saidi\"]\n",
    "DAG_PATH = \"./DAGs/reference_system/referenceSystem.dot\"\n",
    "JITTER_SRC = \"./DAGs/reference_system/reference_system_exec_jitter_multi_8core_8192.yaml\"\n",
    "\n",
    "for method in METHODS:\n",
    "    for tu in np.arange(1.0, 1.4, 0.0004):\n",
    "        %run eval_interface.py -d $DEST_DIR -g $DAG_PATH -m $method --alpha 1.7 -c 8 -a \"LLF\" -u -j $JITTER_SRC $tu\n",
    "\n",
    "# HACK: EDF\n",
    "for tu in np.arange(1.0, 1.4, 0.0004):\n",
    "    %run eval_interface.py -d $DEST_DIR -g $DAG_PATH -m \"Igarashi\" --alpha 1.7 -c 8 -a \"EDF\" -u -j $JITTER_SRC $tu"
   ]
  },
  {
   "cell_type": "markdown",
   "metadata": {},
   "source": [
    "# Evaluation of varying alpha"
   ]
  },
  {
   "cell_type": "code",
   "execution_count": null,
   "metadata": {},
   "outputs": [],
   "source": [
    "import numpy as np\n",
    "\n",
    "!mkdir \"./results/alpha_varied\"\n",
    "\n",
    "DEST_DIR = \"./results/alpha_varied\"\n",
    "METHODS = [\"proposed\", \"Igarashi\", \"Saidi\"]\n",
    "DAG_PATH = \"./DAGs/reference_system/referenceSystem.dot\"\n",
    "JITTER_SRC = \"./DAGs/reference_system/reference_system_exec_jitter_multi_8core_8192.yaml\"\n",
    "\n",
    "for method in METHODS:\n",
    "    for alpha in np.arange(1.0, 1.4, 0.0004):  # TODO: adjust\n",
    "        %run eval_interface.py -d $DEST_DIR -g $DAG_PATH -m $method --alpha $alpha -c 8 -a \"LLF\" -u -j $JITTER_SRC 1.4\n",
    "\n",
    "# HACK: EDF\n",
    "for alpha in np.arange(1.0, 1.4, 0.0004):  # TODO: adjust\n",
    "    %run eval_interface.py -d $DEST_DIR -g $DAG_PATH -m \"Igarashi\" --alpha $alpha -c 8 -a \"EDF\" -u -j $JITTER_SRC 1.4"
   ]
  }
 ],
 "metadata": {
  "kernelspec": {
   "display_name": "Python 3.9.0 64-bit (system)",
   "language": "python",
   "name": "python3"
  },
  "language_info": {
   "codemirror_mode": {
    "name": "ipython",
    "version": 3
   },
   "file_extension": ".py",
   "mimetype": "text/x-python",
   "name": "python",
   "nbconvert_exporter": "python",
   "pygments_lexer": "ipython3",
   "version": "3.9.0"
  },
  "orig_nbformat": 4,
  "vscode": {
   "interpreter": {
    "hash": "91f444b4bdd0a64f581b8b78c6f8ddecf8f9bb3916c552bdbf02c54ef617e774"
   }
  }
 },
 "nbformat": 4,
 "nbformat_minor": 2
}
