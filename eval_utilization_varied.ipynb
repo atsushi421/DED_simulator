{
 "cells": [
  {
   "cell_type": "markdown",
   "metadata": {},
   "source": [
    "# Evaluation of varying utilization"
   ]
  },
  {
   "cell_type": "code",
   "execution_count": 1,
   "metadata": {},
   "outputs": [],
   "source": [
    "import numpy as np\n",
    "\n",
    "!mkdir \"./results/utilization_varied\"\n",
    "\n",
    "DEST_DIR = \"./results/utilization_varied\"\n",
    "ANALYSIS_METHODS = [\"proposed\", \"Igarashi\", \"Saidi\"]\n",
    "DAG_PATH = \"./DAGs/reference_system/referenceSystem.dot\"\n",
    "JITTER_SRC = \"./DAGs/reference_system/reference_system_exec_jitter_multi_8core_8192.yaml\"\n",
    "FACTOR_VALUES = np.arange(1.2, 2.2, 0.001)\n",
    "\n",
    "for method in ANALYSIS_METHODS:\n",
    "    for factor in FACTOR_VALUES:\n",
    "        %run eval_interface.py -d $DEST_DIR -t 1.2 -g $DAG_PATH -m $method --alpha 2.0 -c 8 -a \"LLF\" -u -j $JITTER_SRC $factor\n",
    "\n",
    "# EDF\n",
    "for factor in FACTOR_VALUES:\n",
    "    %run eval_interface.py -d $DEST_DIR -t 1.2 -g $DAG_PATH -m \"Igarashi\" --alpha 2.0 -c 8 -a \"EDF\" -u -j $JITTER_SRC $factor"
   ]
  }
 ],
 "metadata": {
  "kernelspec": {
   "display_name": "Python 3.9.0 64-bit (system)",
   "language": "python",
   "name": "python3"
  },
  "language_info": {
   "codemirror_mode": {
    "name": "ipython",
    "version": 3
   },
   "file_extension": ".py",
   "mimetype": "text/x-python",
   "name": "python",
   "nbconvert_exporter": "python",
   "pygments_lexer": "ipython3",
   "version": "3.9.0"
  },
  "orig_nbformat": 4,
  "vscode": {
   "interpreter": {
    "hash": "91f444b4bdd0a64f581b8b78c6f8ddecf8f9bb3916c552bdbf02c54ef617e774"
   }
  }
 },
 "nbformat": 4,
 "nbformat_minor": 2
}
