{
 "cells": [
  {
   "cell_type": "markdown",
   "metadata": {},
   "source": [
    "# Evaluation of varying utilization"
   ]
  },
  {
   "cell_type": "code",
   "execution_count": 1,
   "metadata": {},
   "outputs": [
    {
     "name": "stderr",
     "output_type": "stream",
     "text": [
      "�T�u�f�B���N�g���܂��̓t�@�C�� ./results/utilization_varied �͊��ɑ��݂��܂��B\n"
     ]
    },
    {
     "ename": "KeyboardInterrupt",
     "evalue": "",
     "output_type": "error",
     "traceback": [
      "\u001b[1;31m---------------------------------------------------------------------------\u001b[0m",
      "\u001b[1;31mKeyboardInterrupt\u001b[0m                         Traceback (most recent call last)",
      "File \u001b[1;32m~\\Documents\\workspace\\env\\DED\\DED_Simulator\\eval_interface.py:105\u001b[0m, in \u001b[0;36m<module>\u001b[1;34m\u001b[0m\n\u001b[0;32m    102\u001b[0m processor \u001b[39m=\u001b[39m MultiCoreProcessor(num_cores)\n\u001b[0;32m    103\u001b[0m scheduler \u001b[39m=\u001b[39m Scheduler(sched_algorithm, dag,\n\u001b[0;32m    104\u001b[0m                       processor, alpha, write_sched_log)\n\u001b[1;32m--> 105\u001b[0m scheduler\u001b[39m.\u001b[39;49mschedule()\n\u001b[0;32m    107\u001b[0m file_name \u001b[39m=\u001b[39m (\n\u001b[0;32m    108\u001b[0m     \u001b[39mf\u001b[39m\u001b[39m'\u001b[39m\u001b[39m{\u001b[39;00mos\u001b[39m.\u001b[39mpath\u001b[39m.\u001b[39msplitext(os\u001b[39m.\u001b[39mpath\u001b[39m.\u001b[39mbasename(dag_path))[\u001b[39m0\u001b[39m]\u001b[39m}\u001b[39;00m\u001b[39m_\u001b[39m\u001b[39m'\u001b[39m\n\u001b[0;32m    109\u001b[0m     \u001b[39mf\u001b[39m\u001b[39m'\u001b[39m\u001b[39m{\u001b[39;00manalyze_method\u001b[39m}\u001b[39;00m\u001b[39m_\u001b[39m\u001b[39m'\u001b[39m\n\u001b[1;32m   (...)\u001b[0m\n\u001b[0;32m    112\u001b[0m     \u001b[39mf\u001b[39m\u001b[39m'\u001b[39m\u001b[39m{\u001b[39;00msched_algorithm\u001b[39m}\u001b[39;00m\u001b[39m_\u001b[39m\u001b[39m'\u001b[39m\n\u001b[0;32m    113\u001b[0m )\n\u001b[0;32m    114\u001b[0m \u001b[39mif\u001b[39;00m jitter:\n",
      "File \u001b[1;32m~\\Documents\\workspace\\env\\DED\\DED_Simulator\\src\\scheduler.py:115\u001b[0m, in \u001b[0;36mScheduler.schedule\u001b[1;34m(self)\u001b[0m\n\u001b[0;32m    114\u001b[0m \u001b[39mdef\u001b[39;00m \u001b[39mschedule\u001b[39m(\u001b[39mself\u001b[39m) \u001b[39m-\u001b[39m\u001b[39m>\u001b[39m \u001b[39mNone\u001b[39;00m:\n\u001b[1;32m--> 115\u001b[0m     \u001b[39mwhile\u001b[39;00m \u001b[39mself\u001b[39m\u001b[39m.\u001b[39m_current_time \u001b[39m!=\u001b[39m \u001b[39mself\u001b[39;49m\u001b[39m.\u001b[39;49m_dag\u001b[39m.\u001b[39mhp:\n\u001b[0;32m    116\u001b[0m         \u001b[39mif\u001b[39;00m \u001b[39mself\u001b[39m\u001b[39m.\u001b[39m_dm_flag:\n\u001b[0;32m    117\u001b[0m             \u001b[39mbreak\u001b[39;00m\n",
      "\u001b[1;31mKeyboardInterrupt\u001b[0m: "
     ]
    }
   ],
   "source": [
    "import numpy as np\n",
    "\n",
    "DEST_DIR = \"./results/utilization_varied\"\n",
    "ANALYSIS_METHODS = [\"proposed\", \"Igarashi\", \"Saidi\"]\n",
    "DAG_PATH = \"./DAGs/reference_system/referenceSystem.dot\"\n",
    "JITTER_SRC = \"./DAGs/reference_system/reference_system_exec_jitter_multi_8core_8192.yaml\"\n",
    "FACTOR_VALUES = np.arange(1.2, 2.2, 0.001)\n",
    "\n",
    "!mkdir $DEST_DIR\n",
    "\n",
    "for method in ANALYSIS_METHODS:\n",
    "    for seed, factor in enumerate(FACTOR_VALUES):\n",
    "        %run eval_interface.py -d $DEST_DIR -g $DAG_PATH -m $method --alpha 2.0 -c 8 -a \"LLF\" -u -j $JITTER_SRC $factor $seed\n",
    "\n",
    "# EDF\n",
    "for seed, factor in enumerate(FACTOR_VALUES):\n",
    "    %run eval_interface.py -d $DEST_DIR -g $DAG_PATH -m \"Igarashi\" --alpha 2.0 -c 8 -a \"EDF\" -u -j $JITTER_SRC $factor $seed"
   ]
  }
 ],
 "metadata": {
  "kernelspec": {
   "display_name": "Python 3.9.0 64-bit (system)",
   "language": "python",
   "name": "python3"
  },
  "language_info": {
   "codemirror_mode": {
    "name": "ipython",
    "version": 3
   },
   "file_extension": ".py",
   "mimetype": "text/x-python",
   "name": "python",
   "nbconvert_exporter": "python",
   "pygments_lexer": "ipython3",
   "version": "3.9.0"
  },
  "orig_nbformat": 4,
  "vscode": {
   "interpreter": {
    "hash": "91f444b4bdd0a64f581b8b78c6f8ddecf8f9bb3916c552bdbf02c54ef617e774"
   }
  }
 },
 "nbformat": 4,
 "nbformat_minor": 2
}
