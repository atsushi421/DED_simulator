{
 "cells": [
  {
   "cell_type": "code",
   "execution_count": null,
   "metadata": {},
   "outputs": [],
   "source": [
    "import os\n",
    "\n",
    "def get_method_name(log_path: str) -> str:\n",
    "    file_name = os.path.splitext(os.path.basename(log_path))[0]\n",
    "    file_name_split = file_name.split('_')\n",
    "    \n",
    "    if file_name_split[4] == 'EDF':\n",
    "        method_name = 'EDF'\n",
    "    else:\n",
    "        method_name = file_name_split[1]\n",
    "\n",
    "    return method_name"
   ]
  },
  {
   "cell_type": "code",
   "execution_count": null,
   "metadata": {},
   "outputs": [],
   "source": [
    "from typing import Dict\n",
    "\n",
    "def get_classification(log: Dict) -> str:\n",
    "    if 'deadline_miss' in log.keys() and 'early_detection' in log.keys():\n",
    "        classification = 'TP'\n",
    "    elif 'deadline_miss' not in log.keys() and 'early_detection' in log.keys():\n",
    "        classification = 'FP'\n",
    "    elif 'deadline_miss' in log.keys() and 'early_detection' not in log.keys():\n",
    "        classification = 'FN'\n",
    "    elif 'deadline_miss' not in log.keys() and 'early_detection' not in log.keys():\n",
    "        classification += 'TN'\n",
    "\n",
    "    return classification"
   ]
  },
  {
   "cell_type": "markdown",
   "metadata": {},
   "source": [
    "# Total utilization varied"
   ]
  },
  {
   "cell_type": "code",
   "execution_count": null,
   "metadata": {},
   "outputs": [],
   "source": [
    "def get_utilization(log_path: str) -> float:\n",
    "    file_name = os.path.splitext(os.path.basename(log_path))[0]\n",
    "    utilization_str = file_name.split('_')[-1]\n",
    "    utilization = float(utilization_str.split('=')[1])\n",
    "\n",
    "    if 0.65 <= utilization < 0.7:\n",
    "        utilization = 65\n",
    "    elif 0.7 <= utilization < 0.75:\n",
    "        utilization = 70\n",
    "    elif 0.75 <= utilization < 0.8:\n",
    "        utilization = 75\n",
    "    elif 0.8 <= utilization < 0.85:\n",
    "        utilization = 80\n",
    "    elif 0.85 <= utilization < 0.9:\n",
    "        utilization = 85\n",
    "    elif 0.9 <= utilization < 0.95:\n",
    "        utilization = 90\n",
    "    elif 0.95 <= utilization < 1.0:\n",
    "        utilization = 95\n",
    "\n",
    "    return utilization"
   ]
  },
  {
   "cell_type": "code",
   "execution_count": null,
   "metadata": {},
   "outputs": [],
   "source": [
    "import glob\n",
    "import pandas as pd\n",
    "import yaml\n",
    "\n",
    "METHOD_NAMES = ['proposed', 'Igarashi', 'Saidi', 'EDF']\n",
    "\n",
    "utilization_df_dict = {}\n",
    "for method in METHOD_NAMES:\n",
    "    utilization_df_dict[method] = pd.DataFrame(index=['TP Ratio', 'FN Ratio', 'TN Ratio', 'FP Ratio'],\n",
    "                                               columns=['65', '70', '75', '80', '85', '90', '95'])\n",
    "    utilization_df_dict[method].fillna(0, inplace=True)"
   ]
  },
  {
   "cell_type": "code",
   "execution_count": null,
   "metadata": {},
   "outputs": [],
   "source": [
    "log_paths = glob.glob(\"./results/utilization_varied/*.yaml\")\n",
    "\n",
    "for log_path in log_paths:\n",
    "    with open(log_path, \"r\") as f:\n",
    "        log = yaml.safe_load(f)\n",
    "    \n",
    "    method_name = get_method_name(log_path)\n",
    "    utilization = get_utilization(log_path)\n",
    "    classification = get_classification(log)\n",
    "    utilization_df_dict[method_name].at[f'{classification} Ratio', str(utilization)] += 1"
   ]
  },
  {
   "cell_type": "code",
   "execution_count": null,
   "metadata": {},
   "outputs": [],
   "source": [
    "for method in METHOD_NAMES:\n",
    "    utilization_df_dict[method] = \\\n",
    "        utilization_df_dict[method].div(utilization_df_dict[method].sum(axis=0), axis=1)"
   ]
  },
  {
   "cell_type": "code",
   "execution_count": null,
   "metadata": {},
   "outputs": [],
   "source": [
    "utilization_df_dict['proposed']"
   ]
  },
  {
   "cell_type": "code",
   "execution_count": null,
   "metadata": {},
   "outputs": [],
   "source": [
    "utilization_df_dict['Igarashi']"
   ]
  },
  {
   "cell_type": "code",
   "execution_count": null,
   "metadata": {},
   "outputs": [],
   "source": [
    "utilization_df_dict['Saidi']"
   ]
  },
  {
   "cell_type": "code",
   "execution_count": null,
   "metadata": {},
   "outputs": [],
   "source": [
    "utilization_df_dict['EDF']"
   ]
  },
  {
   "cell_type": "markdown",
   "metadata": {},
   "source": [
    "# Alpha varied"
   ]
  },
  {
   "cell_type": "code",
   "execution_count": null,
   "metadata": {},
   "outputs": [],
   "source": [
    "def get_alpha(log_path: str) -> float:\n",
    "    file_name = os.path.splitext(os.path.basename(log_path))[0]\n",
    "    alpha_str = file_name.split('_')[2]\n",
    "    alpha = float(alpha_str.split('=')[1])\n",
    "\n",
    "    return round(alpha, 1)"
   ]
  },
  {
   "cell_type": "code",
   "execution_count": null,
   "metadata": {},
   "outputs": [],
   "source": [
    "import glob\n",
    "import pandas as pd\n",
    "import yaml\n",
    "\n",
    "METHOD_NAMES = ['proposed', 'Igarashi', 'Saidi', 'EDF']\n",
    "\n",
    "alpha_df_dict = {}\n",
    "for method in METHOD_NAMES:\n",
    "    alpha_df_dict[method] = pd.DataFrame(index=['TP Ratio', 'FN Ratio', 'TN Ratio', 'FP Ratio'],\n",
    "                                         columns=[]) # TODO\n",
    "    alpha_df_dict[method].fillna(0, inplace=True)"
   ]
  },
  {
   "cell_type": "code",
   "execution_count": null,
   "metadata": {},
   "outputs": [],
   "source": [
    "log_paths = glob.glob(\"./results/alpha_varied/*.yaml\")\n",
    "\n",
    "for log_path in log_paths:\n",
    "    with open(log_path, \"r\") as f:\n",
    "        log = yaml.safe_load(f)\n",
    "    \n",
    "    method_name = get_method_name(log_path)\n",
    "    alpha = get_alpha(log_path)\n",
    "    classification = get_classification(log)\n",
    "    alpha_df_dict[method_name].at[f'{classification} Ratio', str(alpha)] += 1"
   ]
  },
  {
   "cell_type": "code",
   "execution_count": null,
   "metadata": {},
   "outputs": [],
   "source": [
    "for method in METHOD_NAMES:\n",
    "    alpha_df_dict[method] = \\\n",
    "        alpha_df_dict[method].div(alpha_df_dict[method].sum(axis=0), axis=1)"
   ]
  },
  {
   "cell_type": "code",
   "execution_count": null,
   "metadata": {},
   "outputs": [],
   "source": [
    "alpha_df_dict['proposed']"
   ]
  },
  {
   "cell_type": "code",
   "execution_count": null,
   "metadata": {},
   "outputs": [],
   "source": [
    "alpha_df_dict['Igarashi']"
   ]
  },
  {
   "cell_type": "code",
   "execution_count": null,
   "metadata": {},
   "outputs": [],
   "source": [
    "alpha_df_dict['Saidi']"
   ]
  },
  {
   "cell_type": "code",
   "execution_count": null,
   "metadata": {},
   "outputs": [],
   "source": [
    "alpha_df_dict['EDF']"
   ]
  },
  {
   "cell_type": "markdown",
   "metadata": {},
   "source": [
    "# Earlier time"
   ]
  },
  {
   "cell_type": "code",
   "execution_count": null,
   "metadata": {},
   "outputs": [],
   "source": [
    "earlier_time_dict = {'proposed': [],\n",
    "                     'Igarashi': [],\n",
    "                     'Saidi': [],\n",
    "                     'EDF': []}\n",
    "\n",
    "log_paths = glob.glob(\"./results/**/*.yaml\", recursive=True)\n",
    "for log_path in log_paths:\n",
    "    with open(log_path, \"r\") as f:\n",
    "        log = yaml.safe_load(f)\n",
    "\n",
    "    if get_classification(log) == 'TP':\n",
    "        earlier_time = (log['deadline_miss']['deadline_miss_time']\n",
    "                        - log['early_detection']['detection_time'])\n",
    "        earlier_time_dict[get_method_name(log)].append(earlier_time)"
   ]
  },
  {
   "cell_type": "code",
   "execution_count": null,
   "metadata": {},
   "outputs": [],
   "source": [
    "METHOD_NAMES = ['proposed', 'Igarashi', 'Saidi', 'EDF']\n",
    "\n",
    "for method in METHOD_NAMES:\n",
    "    print(f'{method} ave: {sum(earlier_time_dict[method])/len(earlier_time_dict[method])}')\n",
    "    print(f'{method} max: {max(earlier_time_dict[method])}')"
   ]
  }
 ],
 "metadata": {
  "kernelspec": {
   "display_name": "Python 3.9.0 64-bit (system)",
   "language": "python",
   "name": "python3"
  },
  "language_info": {
   "codemirror_mode": {
    "name": "ipython",
    "version": 3
   },
   "file_extension": ".py",
   "mimetype": "text/x-python",
   "name": "python",
   "nbconvert_exporter": "python",
   "pygments_lexer": "ipython3",
   "version": "3.9.0"
  },
  "orig_nbformat": 4,
  "vscode": {
   "interpreter": {
    "hash": "91f444b4bdd0a64f581b8b78c6f8ddecf8f9bb3916c552bdbf02c54ef617e774"
   }
  }
 },
 "nbformat": 4,
 "nbformat_minor": 2
}
