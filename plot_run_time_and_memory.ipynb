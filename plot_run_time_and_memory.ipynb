{
 "cells": [
  {
   "cell_type": "code",
   "execution_count": null,
   "metadata": {},
   "outputs": [],
   "source": [
    "import matplotlib.pyplot as plt"
   ]
  },
  {
   "cell_type": "code",
   "execution_count": null,
   "metadata": {},
   "outputs": [],
   "source": [
    "import glob\n",
    "import yaml\n",
    "from typing import Optional, Tuple\n",
    "\n",
    "def plot(\n",
    "    src_dir: str,\n",
    "    y_label: str,\n",
    "    x_label: str,\n",
    "    y_lim: Optional[Tuple[float, float]] = None,\n",
    "    export_dir: Optional[str] = None\n",
    ") -> None:\n",
    "    yamls = glob.glob(f\"{src_dir}/**/*.yaml\", recursive=True)\n",
    "    \n",
    "    x = []\n",
    "    y = []\n",
    "    for yaml_path in yamls:\n",
    "        with open(yaml_path, 'r') as f:\n",
    "            result = yaml.safe_load(f)\n",
    "            x.append(result[x_label])\n",
    "            y.append(result[y_label])\n",
    "    \n",
    "    fig, ax = plt.subplots()\n",
    "    \n",
    "    if y_lim:\n",
    "        ax.set_ylim(y_lim[0], y_lim[1])\n",
    "    ax.set_xlabel(x_label, fontsize=14)\n",
    "    ax.set_ylabel(y_label, fontsize=14)\n",
    "    ax.plot(x, y, marker='+', linestyle='')\n",
    "\n",
    "    if export_dir:\n",
    "        fig.savefig(f'{export_dir}/{y_label.replace(\" \", \"_\")}_{x_label.replace(\" \", \"_\")}.png')\n",
    "    plt.show()"
   ]
  },
  {
   "cell_type": "markdown",
   "metadata": {},
   "source": [
    "# Algorithm 1 & 2"
   ]
  },
  {
   "cell_type": "code",
   "execution_count": null,
   "metadata": {},
   "outputs": [],
   "source": [
    "x_label_choice_for_alg12 = {\n",
    "    'Number of nodes',\n",
    "    'Number of edges',\n",
    "    'Number of timer driven nodes',\n",
    "    'Number of join nodes',\n",
    "    'Number of tail nodes',\n",
    "    'Number of tail and join node pairs',\n",
    "}"
   ]
  },
  {
   "cell_type": "code",
   "execution_count": null,
   "metadata": {},
   "outputs": [],
   "source": [
    "### Run time\n",
    "\n",
    "for x_label in x_label_choice_for_alg12:\n",
    "    plot(src_dir='./results/run_time/alg12/',\n",
    "         y_label='Run time [s]',\n",
    "         x_label=x_label,\n",
    "         export_dir='./results/figures/run_time/alg12/')"
   ]
  },
  {
   "cell_type": "code",
   "execution_count": null,
   "metadata": {},
   "outputs": [],
   "source": [
    "### Maximum memory usage\n",
    "\n",
    "for x_label in x_label_choice_for_alg12:\n",
    "    plot(src_dir='./results/memory_usage/alg12/',\n",
    "         y_label='Maximum memory usage [MiB]',\n",
    "         x_label=x_label,\n",
    "         export_dir='./results/figures/memory_usage/alg12/')"
   ]
  },
  {
   "cell_type": "markdown",
   "metadata": {},
   "source": [
    "# Algorithm 3"
   ]
  },
  {
   "cell_type": "code",
   "execution_count": null,
   "metadata": {},
   "outputs": [],
   "source": [
    "x_label_choice_for_alg3 = {\n",
    "    'Number of nodes',\n",
    "    'Number of edges',\n",
    "    'Number of timer driven nodes',\n",
    "    'Number of join nodes',\n",
    "    'Number of tail nodes',\n",
    "    'Number of sub DAGs',\n",
    "    'Number of tail and join node pairs',\n",
    "    'Number of pairs of tail node jobs and join node jobs',\n",
    "    'Number of jobs',\n",
    "    'HP'\n",
    "}"
   ]
  },
  {
   "cell_type": "code",
   "execution_count": null,
   "metadata": {},
   "outputs": [],
   "source": [
    "### Run time\n",
    "\n",
    "for x_label in x_label_choice_for_alg3:\n",
    "    plot(src_dir='./results/run_time/alg3/',\n",
    "         y_label='Run time [s]',\n",
    "         x_label=x_label,\n",
    "         export_dir='./results/figures/run_time/alg3/')"
   ]
  },
  {
   "cell_type": "code",
   "execution_count": null,
   "metadata": {},
   "outputs": [],
   "source": [
    "### Maximum memory usage\n",
    "\n",
    "for x_label in x_label_choice_for_alg3:\n",
    "    plot(src_dir='./results/memory_usage/alg3/',\n",
    "         y_label='Maximum memory usage [MiB]',\n",
    "         x_label=x_label,\n",
    "         export_dir='./results/figures/memory_usage/alg3/')"
   ]
  }
 ],
 "metadata": {
  "kernelspec": {
   "display_name": "Python 3.9.0 ('DED')",
   "language": "python",
   "name": "python3"
  },
  "language_info": {
   "codemirror_mode": {
    "name": "ipython",
    "version": 3
   },
   "file_extension": ".py",
   "mimetype": "text/x-python",
   "name": "python",
   "nbconvert_exporter": "python",
   "pygments_lexer": "ipython3",
   "version": "3.9.0"
  },
  "orig_nbformat": 4,
  "vscode": {
   "interpreter": {
    "hash": "91f444b4bdd0a64f581b8b78c6f8ddecf8f9bb3916c552bdbf02c54ef617e774"
   }
  }
 },
 "nbformat": 4,
 "nbformat_minor": 2
}
