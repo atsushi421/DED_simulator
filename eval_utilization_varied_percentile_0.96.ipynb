{
 "cells": [
  {
   "attachments": {},
   "cell_type": "markdown",
   "metadata": {},
   "source": [
    "# Evaluation of varying utilization with percentile"
   ]
  },
  {
   "cell_type": "code",
   "execution_count": 1,
   "metadata": {},
   "outputs": [
    {
     "name": "stderr",
     "output_type": "stream",
     "text": [
      "�T�u�f�B���N�g���܂��̓t�@�C�� ./results/utilization_varied �͊��ɑ��݂��܂��B\n",
      " 15%|█▍        | 2180/15000 [7:57:21<47:44:54, 13.41s/it]   "
     ]
    }
   ],
   "source": [
    "import numpy as np\n",
    "from tqdm import tqdm\n",
    "import random\n",
    "\n",
    "!mkdir \"./results/utilization_varied\"\n",
    "\n",
    "DEST_DIR = \"./results/utilization_varied_percentile_alpha/\"\n",
    "method = \"proposed\"\n",
    "DAG_PATH = \"./DAGs/reference_system/referenceSystem.dot\"\n",
    "JITTER_SRC = \"./DAGs/reference_system/reference_system_exec_jitter_multi_8core_8192.yaml\"\n",
    "FACTOR_VALUES = np.arange(1.0, 2.5, 0.0001)\n",
    "PERCENTILES = [0.96]\n",
    "\n",
    "DEST_DIR += str(PERCENTILES[0])\n",
    "\n",
    "for percentile in PERCENTILES:\n",
    "    for factor in tqdm(FACTOR_VALUES):\n",
    "        seed = round(factor*3, 5)\n",
    "        random.seed(seed)\n",
    "        alpha = random.choice([2.0, 2.1, 2.2, 2.3, 2.4, 2.5])\n",
    "        %run eval_interface.py -d $DEST_DIR -t 1.2 -g $DAG_PATH -m $method --alpha $alpha -c 8 -a \"LLF\" -u -j $JITTER_SRC $factor $seed -p $percentile"
   ]
  },
  {
   "cell_type": "code",
   "execution_count": null,
   "metadata": {},
   "outputs": [],
   "source": []
  }
 ],
 "metadata": {
  "kernelspec": {
   "display_name": "Python 3.9.0 64-bit (system)",
   "language": "python",
   "name": "python3"
  },
  "language_info": {
   "codemirror_mode": {
    "name": "ipython",
    "version": 3
   },
   "file_extension": ".py",
   "mimetype": "text/x-python",
   "name": "python",
   "nbconvert_exporter": "python",
   "pygments_lexer": "ipython3",
   "version": "3.9.0"
  },
  "orig_nbformat": 4,
  "vscode": {
   "interpreter": {
    "hash": "91f444b4bdd0a64f581b8b78c6f8ddecf8f9bb3916c552bdbf02c54ef617e774"
   }
  }
 },
 "nbformat": 4,
 "nbformat_minor": 2
}
